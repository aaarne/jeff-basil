{
 "cells": [
  {
   "cell_type": "code",
   "execution_count": 39,
   "metadata": {},
   "outputs": [],
   "source": [
    "from pystockfish import *\n",
    "import random"
   ]
  },
  {
   "cell_type": "code",
   "execution_count": 44,
   "metadata": {},
   "outputs": [],
   "source": [
    "%%capture\n",
    "engines = {\n",
    "    'player1': Engine(depth=15, rand=False),\n",
    "    'player2': Engine(depth=10, rand=False),\n",
    "}\n",
    "\n",
    "# Note: Match class assigns color randomly\n",
    "m = Match(engines=engines)\n",
    "\n",
    "for _ in range(10):\n",
    "    m.move()"
   ]
  },
  {
   "cell_type": "code",
   "execution_count": 45,
   "metadata": {},
   "outputs": [
    {
     "data": {
      "text/plain": [
       "['e2e4',\n",
       " 'e7e5',\n",
       " 'b1c3',\n",
       " 'g8f6',\n",
       " 'g1f3',\n",
       " 'f8b4',\n",
       " 'f3e5',\n",
       " 'e8g8',\n",
       " 'e5d3',\n",
       " 'b4c3']"
      ]
     },
     "execution_count": 45,
     "metadata": {},
     "output_type": "execute_result"
    }
   ],
   "source": [
    "m.moves"
   ]
  },
  {
   "cell_type": "code",
   "execution_count": 35,
   "metadata": {},
   "outputs": [],
   "source": [
    "m.white_engine.setoption(\"Skill Level\", 2)\n"
   ]
  },
  {
   "cell_type": "code",
   "execution_count": 36,
   "metadata": {},
   "outputs": [],
   "source": [
    "%%capture\n",
    "for _ in range(40):\n",
    "    m.move()"
   ]
  },
  {
   "cell_type": "code",
   "execution_count": 37,
   "metadata": {},
   "outputs": [
    {
     "data": {
      "text/plain": [
       "True"
      ]
     },
     "execution_count": 37,
     "metadata": {},
     "output_type": "execute_result"
    }
   ],
   "source": [
    "m.white_engine == engines[\"player1\"]"
   ]
  },
  {
   "cell_type": "code",
   "execution_count": null,
   "metadata": {},
   "outputs": [],
   "source": []
  },
  {
   "cell_type": "code",
   "execution_count": null,
   "metadata": {},
   "outputs": [],
   "source": []
  },
  {
   "cell_type": "markdown",
   "metadata": {},
   "source": [
    "# WHILE"
   ]
  },
  {
   "cell_type": "markdown",
   "metadata": {},
   "source": [
    "``` while True:\n",
    "    # request: to endpoint: game start\n",
    "    if success:\n",
    "        # update GUI: game starts\n",
    "        while not game.isOver():\n",
    "            # request: from endpoint: skill levels for both players\n",
    "            # update skill level\n",
    "            for player in players:\n",
    "                # play move\n",
    "                # observe effect / game status\n",
    "                # update GUI: sensors & game state\n",
    "                # request: to endpoint: game state\n",
    "                # IF game over OR newgame: break'''"
   ]
  },
  {
   "cell_type": "markdown",
   "metadata": {},
   "source": [
    "#Reset the new game request\n",
    "http://104.198.192.55/api/reset_game.php\n",
    "\n",
    "#Check for new game request\n",
    "http://104.198.192.55/api/request_game.php\n",
    "\n",
    "http://104.198.192.55/api/set_state.php?player=1&lost=1\n",
    "Player der zuletzt gezogen hat, 0 ist pflanze. lost ist 1 wenn geschlagen wurde"
   ]
  },
  {
   "cell_type": "code",
   "execution_count": 46,
   "metadata": {},
   "outputs": [],
   "source": [
    "import requests"
   ]
  },
  {
   "cell_type": "code",
   "execution_count": 47,
   "metadata": {},
   "outputs": [
    {
     "ename": "NameError",
     "evalue": "name 'success' is not defined",
     "output_type": "error",
     "traceback": [
      "\u001b[0;31m---------------------------------------------------------------------------\u001b[0m",
      "\u001b[0;31mNameError\u001b[0m                                 Traceback (most recent call last)",
      "\u001b[0;32m<ipython-input-47-65fd5eaddead>\u001b[0m in \u001b[0;36m<module>\u001b[0;34m\u001b[0m\n\u001b[1;32m      3\u001b[0m     \u001b[0mrequests\u001b[0m\u001b[0;34m.\u001b[0m\u001b[0mget\u001b[0m\u001b[0;34m(\u001b[0m\u001b[0;34m\"http://104.198.192.55/api/reset_game.php\"\u001b[0m\u001b[0;34m)\u001b[0m\u001b[0;34m\u001b[0m\u001b[0;34m\u001b[0m\u001b[0m\n\u001b[1;32m      4\u001b[0m \u001b[0;34m\u001b[0m\u001b[0m\n\u001b[0;32m----> 5\u001b[0;31m     \u001b[0;32mif\u001b[0m \u001b[0msuccess\u001b[0m\u001b[0;34m:\u001b[0m\u001b[0;34m\u001b[0m\u001b[0;34m\u001b[0m\u001b[0m\n\u001b[0m\u001b[1;32m      6\u001b[0m         \u001b[0;31m# update GUI: game starts\u001b[0m\u001b[0;34m\u001b[0m\u001b[0;34m\u001b[0m\u001b[0;34m\u001b[0m\u001b[0m\n\u001b[1;32m      7\u001b[0m         \u001b[0;32mwhile\u001b[0m \u001b[0;32mnot\u001b[0m \u001b[0mgame\u001b[0m\u001b[0;34m.\u001b[0m\u001b[0misOver\u001b[0m\u001b[0;34m(\u001b[0m\u001b[0;34m)\u001b[0m\u001b[0;34m:\u001b[0m\u001b[0;34m\u001b[0m\u001b[0;34m\u001b[0m\u001b[0m\n",
      "\u001b[0;31mNameError\u001b[0m: name 'success' is not defined"
     ]
    }
   ],
   "source": [
    "while True:\n",
    "    # request: to endpoint: game start\n",
    "    requests.get(\"http://104.198.192.55/api/reset_game.php\")\n",
    "    \n",
    "    if success:\n",
    "        # update GUI: game starts\n",
    "        while not game.isOver():\n",
    "            res = requests.get(\"http://104.198.192.55/api/request_game.php\")\n",
    "            \n",
    "            # request: from endpoint: skill levels for both players\n",
    "            plant_skill, stock_skill = requests.get(\"http://104.198.192.55/api/request_difficulty.php\").content.split(b'\\r')\n",
    "            plant_skill, stock_skill = float(plant_skill), float(stock_skill)\n",
    "            # update skill level\n",
    "            \n",
    "            for player in players:\n",
    "                # play move\n",
    "                # observe effect / game status\n",
    "                # update GUI: sensors & game state\n",
    "                \n",
    "                # request: to endpoint: game state   TODO suffix\n",
    "                requests.get(\"http://104.198.192.55/api/set_state.php?player=1&lost=1\")\n",
    "                \n",
    "                # IF game over OR newgame: break\n",
    "                if game.isOver() or 1 == int(requests.get(\"http://104.198.192.55/api/request_game.php\").content):\n",
    "                    break"
   ]
  },
  {
   "cell_type": "code",
   "execution_count": null,
   "metadata": {},
   "outputs": [],
   "source": []
  }
 ],
 "metadata": {
  "kernelspec": {
   "display_name": "Python 3",
   "language": "python",
   "name": "python3"
  },
  "language_info": {
   "codemirror_mode": {
    "name": "ipython",
    "version": 3
   },
   "file_extension": ".py",
   "mimetype": "text/x-python",
   "name": "python",
   "nbconvert_exporter": "python",
   "pygments_lexer": "ipython3",
   "version": "3.7.4"
  }
 },
 "nbformat": 4,
 "nbformat_minor": 4
}
