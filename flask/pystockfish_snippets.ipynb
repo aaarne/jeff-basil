{
 "cells": [
  {
   "cell_type": "code",
   "execution_count": 1,
   "metadata": {},
   "outputs": [],
   "source": [
    "from pystockfish import *"
   ]
  },
  {
   "cell_type": "code",
   "execution_count": 2,
   "metadata": {},
   "outputs": [],
   "source": [
    "%%capture\n",
    "engines = {\n",
    "    'player1': Engine(depth=15, rand=False),\n",
    "    'player2': Engine(depth=10, rand=False),\n",
    "}\n",
    "\n",
    "m = Match(engines=engines)\n",
    "\n",
    "for _ in range(10):\n",
    "    m.move()"
   ]
  },
  {
   "cell_type": "code",
   "execution_count": 3,
   "metadata": {},
   "outputs": [
    {
     "data": {
      "text/plain": [
       "['e2e3',\n",
       " 'e7e5',\n",
       " 'd2d4',\n",
       " 'e5e4',\n",
       " 'c2c4',\n",
       " 'g8f6',\n",
       " 'g1e2',\n",
       " 'c7c6',\n",
       " 'd4d5',\n",
       " 'f8c5']"
      ]
     },
     "execution_count": 3,
     "metadata": {},
     "output_type": "execute_result"
    }
   ],
   "source": [
    "m.moves"
   ]
  },
  {
   "cell_type": "code",
   "execution_count": 4,
   "metadata": {},
   "outputs": [],
   "source": [
    "m.white_engine.setoption(\"Skill Level\", 2)\n"
   ]
  },
  {
   "cell_type": "code",
   "execution_count": 5,
   "metadata": {},
   "outputs": [],
   "source": [
    "%%capture\n",
    "for _ in range(40):\n",
    "    m.move()"
   ]
  },
  {
   "cell_type": "code",
   "execution_count": 5,
   "metadata": {},
   "outputs": [
    {
     "data": {
      "text/plain": [
       "True"
      ]
     },
     "execution_count": 5,
     "metadata": {},
     "output_type": "execute_result"
    }
   ],
   "source": [
    "m.white_engine == engines[\"player1\"]"
   ]
  },
  {
   "cell_type": "code",
   "execution_count": null,
   "metadata": {},
   "outputs": [],
   "source": []
  },
  {
   "cell_type": "code",
   "execution_count": null,
   "metadata": {},
   "outputs": [],
   "source": []
  },
  {
   "cell_type": "markdown",
   "metadata": {},
   "source": [
    "# WHILE"
   ]
  },
  {
   "cell_type": "code",
   "execution_count": 6,
   "metadata": {},
   "outputs": [
    {
     "ename": "SyntaxError",
     "evalue": "unexpected EOF while parsing (<ipython-input-6-3130e2f173e5>, line 13)",
     "output_type": "error",
     "traceback": [
      "\u001b[0;36m  File \u001b[0;32m\"<ipython-input-6-3130e2f173e5>\"\u001b[0;36m, line \u001b[0;32m13\u001b[0m\n\u001b[0;31m    # IF game over OR newgame: break\u001b[0m\n\u001b[0m                                    ^\u001b[0m\n\u001b[0;31mSyntaxError\u001b[0m\u001b[0;31m:\u001b[0m unexpected EOF while parsing\n"
     ]
    }
   ],
   "source": [
    "while True:\n",
    "    # request: to endpoint: game start\n",
    "    if success:\n",
    "        # update GUI: game starts\n",
    "        while not game.isOver():\n",
    "            # request: from endpoint: skill levels for both players\n",
    "            # update skill level\n",
    "            for player in players:\n",
    "                # play move\n",
    "                # observe effect / game status\n",
    "                # update GUI: sensors & game state\n",
    "                # request: to endpoint: game state\n",
    "                # IF game over OR newgame: break"
   ]
  },
  {
   "cell_type": "markdown",
   "metadata": {},
   "source": [
    "#Reset the new game request\n",
    "http://104.198.192.55/api/reset_game.php\n",
    "\n",
    "#Check for new game request\n",
    "http://104.198.192.55/api/request_game.php\n",
    "\n",
    "http://104.198.192.55/api/set_state.php?player=1&lost=1\n",
    "Player der zuletzt gezogen hat, 0 ist pflanze. lost ist 1 wenn geschlagen wurde"
   ]
  },
  {
   "cell_type": "code",
   "execution_count": 10,
   "metadata": {},
   "outputs": [],
   "source": [
    "import requests"
   ]
  },
  {
   "cell_type": "code",
   "execution_count": null,
   "metadata": {},
   "outputs": [],
   "source": [
    "while True:\n",
    "    # request: to endpoint: game start\n",
    "    requests.get(\"http://104.198.192.55/api/reset_game.php\")\n",
    "    \n",
    "    if success:\n",
    "        # update GUI: game starts\n",
    "        while not game.isOver():\n",
    "            res = requests.get(\"http://104.198.192.55/api/request_game.php\")\n",
    "            \n",
    "            # request: from endpoint: skill levels for both players\n",
    "            # update skill level\n",
    "            for player in players:\n",
    "                # play move\n",
    "                # observe effect / game status\n",
    "                # update GUI: sensors & game state\n",
    "                \n",
    "                # request: to endpoint: game state\n",
    "                requests.get(\"http://104.198.192.55/api/set_state.php?player=1&lost=1\")\n",
    "                \n",
    "                # IF game over OR newgame: break"
   ]
  }
 ],
 "metadata": {
  "kernelspec": {
   "display_name": "Python 3",
   "language": "python",
   "name": "python3"
  },
  "language_info": {
   "codemirror_mode": {
    "name": "ipython",
    "version": 3
   },
   "file_extension": ".py",
   "mimetype": "text/x-python",
   "name": "python",
   "nbconvert_exporter": "python",
   "pygments_lexer": "ipython3",
   "version": "3.7.4"
  }
 },
 "nbformat": 4,
 "nbformat_minor": 4
}
